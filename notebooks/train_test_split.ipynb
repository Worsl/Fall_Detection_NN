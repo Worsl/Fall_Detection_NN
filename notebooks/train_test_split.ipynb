{
 "cells": [
  {
   "cell_type": "code",
   "execution_count": 1,
   "id": "fb9c5f42-50c5-40d2-aaa6-0ac57d2e127a",
   "metadata": {
    "tags": []
   },
   "outputs": [],
   "source": [
    "import os\n",
    "import random\n",
    "from sklearn.model_selection import train_test_split"
   ]
  },
  {
   "cell_type": "code",
   "execution_count": 2,
   "id": "1e50ddef-ac13-484e-b512-bafc6c23603a",
   "metadata": {
    "tags": []
   },
   "outputs": [],
   "source": [
    "# hyper-parameters \n",
    "TEST_RATIO = 0.2\n",
    "VALID_RATIO = 0.1\n",
    "\n",
    "\n",
    "META_DATA_PATH = '../data/Data_Description.xlsx'\n",
    "VIDEO_DATA_PATH = '../data/Fall_Simulation_Data/'\n",
    "OUTPUT_FRAMES_PATH = '../data/Frames_Extracted/'"
   ]
  },
  {
   "cell_type": "code",
   "execution_count": 3,
   "id": "c1111248-5bb7-4bb4-ba40-3d41a1f8bbad",
   "metadata": {
    "tags": []
   },
   "outputs": [],
   "source": [
    "video_files = [x for x in os.listdir(VIDEO_DATA_PATH)]\n",
    "scenario_name = set([x.split('_')[0] for x in video_files])\n",
    "adl_scenarios = [x for x in scenario_name if 'ADL' in x]\n",
    "fall_scenarios = [x for x in scenario_name if 'ADL' not in x]"
   ]
  },
  {
   "cell_type": "markdown",
   "id": "3534be9a-9c43-44c8-89d2-786f63b86006",
   "metadata": {},
   "source": [
    "# Generate test set"
   ]
  },
  {
   "cell_type": "code",
   "execution_count": null,
   "id": "f07d92bb-6f62-4840-800b-1cb47f3c623e",
   "metadata": {
    "tags": []
   },
   "outputs": [],
   "source": [
    "train_test_split(adl_scenarios, test_size=TEST_RATIO, random_state=1030)"
   ]
  },
  {
   "cell_type": "code",
   "execution_count": null,
   "id": "42659b09-5a39-464e-8c7c-534017c652b4",
   "metadata": {
    "tags": []
   },
   "outputs": [],
   "source": [
    "train_test_split(fall_scenarios, test_size=TEST_RATIO, random_state=1030)"
   ]
  },
  {
   "cell_type": "markdown",
   "id": "512d90d6-afae-459a-a36b-e24a6466949a",
   "metadata": {},
   "source": [
    "# Generate valid set"
   ]
  },
  {
   "cell_type": "code",
   "execution_count": 17,
   "id": "5901da3f-824a-495b-a152-fb80b4e9cc5f",
   "metadata": {
    "tags": []
   },
   "outputs": [],
   "source": [
    "import sys\n",
    "sys.path.append('..')\n",
    "\n",
    "from dataset import FallDetectionDataset"
   ]
  },
  {
   "cell_type": "code",
   "execution_count": 20,
   "id": "0cde5b67-80bb-4352-89b8-f9edc92d2c6e",
   "metadata": {
    "tags": []
   },
   "outputs": [
    {
     "data": {
      "text/plain": [
       "['ADL2',\n",
       " 'ADL16',\n",
       " 'ADL10',\n",
       " 'ADL17',\n",
       " 'Fall48',\n",
       " 'Fall40',\n",
       " 'Fall15',\n",
       " 'Fall12',\n",
       " 'Fall5',\n",
       " 'Fall1',\n",
       " 'Fall51',\n",
       " 'Fall24',\n",
       " 'Fall50',\n",
       " 'Fall20',\n",
       " 'Fall14']"
      ]
     },
     "execution_count": 20,
     "metadata": {},
     "output_type": "execute_result"
    }
   ],
   "source": [
    "FallDetectionDataset.TEST_SET_PREFIX"
   ]
  },
  {
   "cell_type": "code",
   "execution_count": 25,
   "id": "8c71a354-55c8-4811-b4c0-05f90480aeb9",
   "metadata": {
    "tags": []
   },
   "outputs": [
    {
     "data": {
      "text/plain": [
       "[['ADL15',\n",
       "  'ADL8',\n",
       "  'ADL4',\n",
       "  'ADL6',\n",
       "  'ADL7',\n",
       "  'ADL13',\n",
       "  'ADL11',\n",
       "  'ADL5',\n",
       "  'ADL12',\n",
       "  'ADL9',\n",
       "  'ADL1'],\n",
       " ['ADL3', 'ADL14']]"
      ]
     },
     "execution_count": 25,
     "metadata": {},
     "output_type": "execute_result"
    }
   ],
   "source": [
    "train_test_split([x for x in adl_scenarios if x not in FallDetectionDataset.TEST_SET_PREFIX], \n",
    "                 test_size=VALID_RATIO, \n",
    "                 random_state=1030)"
   ]
  },
  {
   "cell_type": "code",
   "execution_count": 26,
   "id": "b03df4ef-c012-41b4-8887-587aa7220c54",
   "metadata": {
    "tags": []
   },
   "outputs": [
    {
     "data": {
      "text/plain": [
       "[['Fall54',\n",
       "  'Fall8',\n",
       "  'Fall3',\n",
       "  'Fall30',\n",
       "  'Fall45',\n",
       "  'Fall27',\n",
       "  'Fall42',\n",
       "  'Fall9',\n",
       "  'Fall44',\n",
       "  'Fall7',\n",
       "  'Fall19',\n",
       "  'Fall6',\n",
       "  'Fall41',\n",
       "  'Fall49',\n",
       "  'Fall38',\n",
       "  'Fall11',\n",
       "  'Fall39',\n",
       "  'Fall18',\n",
       "  'Fall21',\n",
       "  'Fall53',\n",
       "  'Fall37',\n",
       "  'Fall55',\n",
       "  'Fall34',\n",
       "  'Fall43',\n",
       "  'Fall52',\n",
       "  'Fall13',\n",
       "  'Fall36',\n",
       "  'Fall17',\n",
       "  'Fall25',\n",
       "  'Fall28',\n",
       "  'Fall16',\n",
       "  'Fall35',\n",
       "  'Fall29',\n",
       "  'Fall26',\n",
       "  'Fall33',\n",
       "  'Fall4',\n",
       "  'Fall10',\n",
       "  'Fall46',\n",
       "  'Fall32'],\n",
       " ['Fall31', 'Fall23', 'Fall2', 'Fall47', 'Fall22']]"
      ]
     },
     "execution_count": 26,
     "metadata": {},
     "output_type": "execute_result"
    }
   ],
   "source": [
    "train_test_split([x for x in fall_scenarios if x not in FallDetectionDataset.TEST_SET_PREFIX], \n",
    "                 test_size=VALID_RATIO, \n",
    "                 random_state=1030)"
   ]
  },
  {
   "cell_type": "code",
   "execution_count": null,
   "id": "a6253b22-edf8-45e9-bfdd-03d8a0951697",
   "metadata": {},
   "outputs": [],
   "source": []
  }
 ],
 "metadata": {
  "kernelspec": {
   "display_name": "Python 3 (ipykernel)",
   "language": "python",
   "name": "python3"
  },
  "language_info": {
   "codemirror_mode": {
    "name": "ipython",
    "version": 3
   },
   "file_extension": ".py",
   "mimetype": "text/x-python",
   "name": "python",
   "nbconvert_exporter": "python",
   "pygments_lexer": "ipython3",
   "version": "3.7.9"
  }
 },
 "nbformat": 4,
 "nbformat_minor": 5
}
