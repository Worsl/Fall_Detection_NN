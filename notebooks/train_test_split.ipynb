{
 "cells": [
  {
   "cell_type": "code",
   "execution_count": 15,
   "id": "fb9c5f42-50c5-40d2-aaa6-0ac57d2e127a",
   "metadata": {
    "tags": []
   },
   "outputs": [],
   "source": [
    "import os\n",
    "import random\n",
    "from sklearn.model_selection import train_test_split"
   ]
  },
  {
   "cell_type": "code",
   "execution_count": 11,
   "id": "1e50ddef-ac13-484e-b512-bafc6c23603a",
   "metadata": {
    "tags": []
   },
   "outputs": [],
   "source": [
    "# hyper-parameters \n",
    "TEST_RATIO = 0.2\n",
    "\n",
    "\n",
    "META_DATA_PATH = '../data/Data_Description.xlsx'\n",
    "VIDEO_DATA_PATH = '../data/Fall_Simulation_Data/'\n",
    "OUTPUT_FRAMES_PATH = '../data/Frames_Extracted/'"
   ]
  },
  {
   "cell_type": "code",
   "execution_count": 12,
   "id": "c1111248-5bb7-4bb4-ba40-3d41a1f8bbad",
   "metadata": {
    "tags": []
   },
   "outputs": [],
   "source": [
    "video_files = [x for x in os.listdir(VIDEO_DATA_PATH)]\n",
    "scenario_name = set([x.split('_')[0] for x in video_files])\n",
    "adl_scenarios = [x for x in scenario_name if 'ADL' in x]\n",
    "fall_scenarios = [x for x in scenario_name if 'ADL' not in x]"
   ]
  },
  {
   "cell_type": "code",
   "execution_count": 16,
   "id": "f07d92bb-6f62-4840-800b-1cb47f3c623e",
   "metadata": {
    "tags": []
   },
   "outputs": [
    {
     "data": {
      "text/plain": [
       "[['ADL1',\n",
       "  'ADL4',\n",
       "  'ADL5',\n",
       "  'ADL3',\n",
       "  'ADL11',\n",
       "  'ADL13',\n",
       "  'ADL9',\n",
       "  'ADL8',\n",
       "  'ADL7',\n",
       "  'ADL12',\n",
       "  'ADL15',\n",
       "  'ADL14',\n",
       "  'ADL6'],\n",
       " ['ADL2', 'ADL16', 'ADL10', 'ADL17']]"
      ]
     },
     "execution_count": 16,
     "metadata": {},
     "output_type": "execute_result"
    }
   ],
   "source": [
    "train_test_split(adl_scenarios, test_size=TEST_RATIO, random_state=1030)"
   ]
  },
  {
   "cell_type": "code",
   "execution_count": 17,
   "id": "42659b09-5a39-464e-8c7c-534017c652b4",
   "metadata": {
    "tags": []
   },
   "outputs": [
    {
     "data": {
      "text/plain": [
       "[['Fall43',\n",
       "  'Fall18',\n",
       "  'Fall31',\n",
       "  'Fall33',\n",
       "  'Fall39',\n",
       "  'Fall22',\n",
       "  'Fall37',\n",
       "  'Fall8',\n",
       "  'Fall21',\n",
       "  'Fall6',\n",
       "  'Fall30',\n",
       "  'Fall11',\n",
       "  'Fall55',\n",
       "  'Fall23',\n",
       "  'Fall41',\n",
       "  'Fall42',\n",
       "  'Fall7',\n",
       "  'Fall34',\n",
       "  'Fall35',\n",
       "  'Fall10',\n",
       "  'Fall47',\n",
       "  'Fall27',\n",
       "  'Fall26',\n",
       "  'Fall25',\n",
       "  'Fall2',\n",
       "  'Fall28',\n",
       "  'Fall45',\n",
       "  'Fall49',\n",
       "  'Fall44',\n",
       "  'Fall32',\n",
       "  'Fall17',\n",
       "  'Fall9',\n",
       "  'Fall38',\n",
       "  'Fall52',\n",
       "  'Fall3',\n",
       "  'Fall46',\n",
       "  'Fall19',\n",
       "  'Fall4',\n",
       "  'Fall13',\n",
       "  'Fall54',\n",
       "  'Fall53',\n",
       "  'Fall29',\n",
       "  'Fall16',\n",
       "  'Fall36'],\n",
       " ['Fall48',\n",
       "  'Fall40',\n",
       "  'Fall15',\n",
       "  'Fall12',\n",
       "  'Fall5',\n",
       "  'Fall1',\n",
       "  'Fall51',\n",
       "  'Fall24',\n",
       "  'Fall50',\n",
       "  'Fall20',\n",
       "  'Fall14']]"
      ]
     },
     "execution_count": 17,
     "metadata": {},
     "output_type": "execute_result"
    }
   ],
   "source": [
    "train_test_split(fall_scenarios, test_size=TEST_RATIO, random_state=1030)"
   ]
  },
  {
   "cell_type": "code",
   "execution_count": null,
   "id": "b39ab5d7-362a-4df9-8366-e2630a885785",
   "metadata": {},
   "outputs": [],
   "source": []
  }
 ],
 "metadata": {
  "kernelspec": {
   "display_name": "Python 3 (ipykernel)",
   "language": "python",
   "name": "python3"
  },
  "language_info": {
   "codemirror_mode": {
    "name": "ipython",
    "version": 3
   },
   "file_extension": ".py",
   "mimetype": "text/x-python",
   "name": "python",
   "nbconvert_exporter": "python",
   "pygments_lexer": "ipython3",
   "version": "3.7.9"
  }
 },
 "nbformat": 4,
 "nbformat_minor": 5
}
